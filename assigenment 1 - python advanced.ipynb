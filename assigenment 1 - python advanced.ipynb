{
 "cells": [
  {
   "cell_type": "raw",
   "id": "68eb67aa",
   "metadata": {},
   "source": [
    "ASSIGENMENT PYTHON ADVANCED-1"
   ]
  },
  {
   "cell_type": "code",
   "execution_count": 5,
   "id": "6ec6b318",
   "metadata": {},
   "outputs": [
    {
     "name": "stdout",
     "output_type": "stream",
     "text": [
      "hello\n"
     ]
    }
   ],
   "source": [
    "print(\"hello\")"
   ]
  },
  {
   "cell_type": "markdown",
   "id": "ff6c533d",
   "metadata": {},
   "source": [
    "1.PURPOSE OF OOPs:\n",
    "The purpose of Object-Oriented Programming (OOP) is to encapsulate data and behavior within objects and classes, and to use inheritance and polymorphism to create a hierarchy of reusable code. This allows for the creation of complex programs made up of small, modular units that can interact with each other in predictable ways."
   ]
  },
  {
   "cell_type": "markdown",
   "id": "1ffb9a23",
   "metadata": {},
   "source": [
    "2.Where does an inheritance search look for an attribute.\n",
    "An inheritance relationship between classes can look like an attribute relationship when the derived class has an instance variable that references an instance of the base class."
   ]
  },
  {
   "cell_type": "markdown",
   "id": "65da3a7a",
   "metadata": {},
   "source": [
    "3.How do you distinguish between a class object and an instance object?\n",
    "A class object is a blueprint for creating instances of that class, while an instance object is a specific object created from a class."
   ]
  },
  {
   "cell_type": "markdown",
   "id": "ce6e6788",
   "metadata": {},
   "source": [
    "4. What makes the first argument in a class’s method function special?\n",
    "It is special(\"self\") because it is mandatory and it used to access the variable throughout the class. "
   ]
  },
  {
   "cell_type": "markdown",
   "id": "71ed8f99",
   "metadata": {},
   "source": [
    "5. What is the purpose of the __init__ method?\n",
    "It is used to describe a constructor(__init__) to the class where variables can be passed.So that when we create objects of the class ,we pass arguments as like how we described in a constructor."
   ]
  },
  {
   "cell_type": "markdown",
   "id": "7c5e73c7",
   "metadata": {},
   "source": [
    "6.What is the process for creating a class instance?\n",
    "We create an instance of a class by creating a reference variable that calls the class.\n",
    "If the class has a constructor then we pass arguments we defining a reference variable"
   ]
  },
  {
   "cell_type": "code",
   "execution_count": 6,
   "id": "102d9049",
   "metadata": {},
   "outputs": [],
   "source": [
    "#class creation\n",
    "class dog():\n",
    "    def __init__(self,name):\n",
    "        self.name = name\n",
    "#creation of an class instance\n",
    "d = dog('tomy')"
   ]
  },
  {
   "cell_type": "markdown",
   "id": "e5803950",
   "metadata": {},
   "source": [
    "7. What is the process for creating a class?\n",
    "We create a class by defining its name and under that we pass a constructor and pass functions in it."
   ]
  },
  {
   "cell_type": "code",
   "execution_count": 7,
   "id": "746dcd51",
   "metadata": {},
   "outputs": [
    {
     "name": "stdout",
     "output_type": "stream",
     "text": [
      "my name is ram,I am 12 years old\n"
     ]
    }
   ],
   "source": [
    "#class creation\n",
    "class dog():\n",
    "    def __init__(self,name,age,color):\n",
    "        self.name = name\n",
    "        self.age = age\n",
    "        self.color = color\n",
    "    def intro(self):\n",
    "        print(f\"my name is {self.name},I am {self.age} years old\")\n",
    "ram = dog(\"ram\",12,\"black\")\n",
    "ram.intro()"
   ]
  },
  {
   "cell_type": "markdown",
   "id": "6d15467d",
   "metadata": {},
   "source": [
    "8. How would you define the superclasses of a class?\n",
    "We can define super class of a class by inheriting the class to the sub-classes."
   ]
  },
  {
   "cell_type": "code",
   "execution_count": 8,
   "id": "ff3d1fbd",
   "metadata": {},
   "outputs": [],
   "source": [
    "class super():\n",
    "    def __init__(self,a,b):\n",
    "        self.a = a\n",
    "        self.b = b\n",
    "    def m(self):\n",
    "        print(\"method in super class\")\n",
    "class subclass(super):\n",
    "    pass"
   ]
  },
  {
   "cell_type": "code",
   "execution_count": null,
   "id": "b342f909",
   "metadata": {},
   "outputs": [],
   "source": []
  },
  {
   "cell_type": "code",
   "execution_count": null,
   "id": "7e1013c7",
   "metadata": {},
   "outputs": [],
   "source": []
  },
  {
   "cell_type": "code",
   "execution_count": null,
   "id": "1f08f023",
   "metadata": {},
   "outputs": [],
   "source": []
  }
 ],
 "metadata": {
  "kernelspec": {
   "display_name": "Python 3 (ipykernel)",
   "language": "python",
   "name": "python3"
  },
  "language_info": {
   "codemirror_mode": {
    "name": "ipython",
    "version": 3
   },
   "file_extension": ".py",
   "mimetype": "text/x-python",
   "name": "python",
   "nbconvert_exporter": "python",
   "pygments_lexer": "ipython3",
   "version": "3.9.13"
  }
 },
 "nbformat": 4,
 "nbformat_minor": 5
}
